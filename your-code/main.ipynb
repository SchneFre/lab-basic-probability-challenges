{
 "cells": [
  {
   "cell_type": "markdown",
   "metadata": {},
   "source": [
    "# Lab | Basic Probability - Challenges\n",
    "\n",
    "## Challenge 1\n",
    "\n",
    "A and B are events of a probability space with $(\\omega, \\sigma, P)$ such that $P(A) = 0.3$, $P(B) = 0.6$ and $P(A \\cap B) = 0.1$\n",
    "\n",
    "Which of the following statements are false?\n",
    "* $P(A \\cup B) = 0.6$\n",
    "* $P(A \\cap B^{C}) = 0.2$\n",
    "* $P(A \\cap (B \\cup B^{C})) = 0.4$\n",
    "* $P(A^{C} \\cap B^{C}) = 0.3$\n",
    "* $P((A \\cap B)^{C}) = 0.9$"
   ]
  },
  {
   "cell_type": "code",
   "execution_count": null,
   "metadata": {},
   "outputs": [],
   "source": [
    "# Your code here\n",
    "\"\"\"\n",
    "    P(A∪B)=P(A)+P(B)-P(A∩B)\n",
    "    P(A∪B)=0.3+0.6-0.1=0.8\n",
    "    P(A∪B)=0.6 is false\n",
    "\n",
    "    \n",
    "    P(A∩BC)=P(A)-P(A∩B)=0.3-0.1=0.2\n",
    "    P(A∩BC)=0.2 is true\n",
    "   \n",
    "    P(A∩(B∪BC))=P(A∩Ω)=P(A)=0.3\n",
    "    P(A∩(B∪BC))=0.4 is false\n",
    "\n",
    "    P(AC∩BC)=P((A∪B)C)=1-P(A∪B)=1-0.8=0.2\n",
    "    P(AC∩BC)=0.3 is false\n",
    "\n",
    "    P((A∩B)C)=1-P(A∩B)=1-0.1=0.9\n",
    "    P((A∩B)C)=0.9\n",
    "\n",
    "\"\"\"\n"
   ]
  },
  {
   "cell_type": "markdown",
   "metadata": {},
   "source": [
    "## Challenge 2\n",
    "There is a box with 10 white balls, 12 red balls and 8 black balls. Calculate the probability of:\n",
    "* Taking a white ball out.\n",
    "* Taking a white ball out after taking a black ball out.\n",
    "* Taking a red ball out after taking a black and a red ball out.\n",
    "* Taking a red ball out after taking a black and a red ball out with reposition.\n",
    "\n",
    "**Hint**: Reposition means putting back the ball into the box after taking it out."
   ]
  },
  {
   "cell_type": "code",
   "execution_count": 11,
   "metadata": {},
   "outputs": [
    {
     "name": "stdout",
     "output_type": "stream",
     "text": [
      "white_ball: 0.3333333333333333\n",
      "white_ball 2: 0.3448275862068966\n",
      "red_ball: 0.39285714285714285\n",
      "red_ball_reposition: 0.4\n"
     ]
    }
   ],
   "source": [
    "# Your code here\n",
    "total = 10+12+8\n",
    "white_ball = 10/total\n",
    "print(\"white_ball: \" + str(white_ball))\n",
    "\n",
    "total_2 = 10+12+7\n",
    "white_ball_2 = 10/ total_2\n",
    "print(\"white_ball 2: \" + str(white_ball_2))\n",
    "\n",
    "total_3 = 10+11+7\n",
    "red_ball = 11/total_3\n",
    "print(\"red_ball: \" + str(red_ball))\n",
    "\n",
    "total_4 = 10+12+8\n",
    "red_ball_reposition = 12/total_4\n",
    "print(\"red_ball_reposition: \" + str(red_ball_reposition))"
   ]
  },
  {
   "cell_type": "markdown",
   "metadata": {},
   "source": [
    "## Challenge 3\n",
    "\n",
    "You are planning to go on a picnic today but the morning is cloudy. You hate rain so you don't know whether to go out or stay home! To help you make a decision, you gather the following data about rainy days:\n",
    "\n",
    "* 50% of all rainy days start off cloudy!\n",
    "* Cloudy mornings are common. About 40% of days start cloudy. \n",
    "* This month is usually dry so only 3 of 30 days (10%) tend to be rainy. \n",
    "\n",
    "What is the chance of rain during the day?"
   ]
  },
  {
   "cell_type": "code",
   "execution_count": 12,
   "metadata": {},
   "outputs": [
    {
     "name": "stdout",
     "output_type": "stream",
     "text": [
      "0.125\n"
     ]
    }
   ],
   "source": [
    "# Your code here\n",
    "p_cloudy = 0.4\n",
    "p_rain_after_clouds = 0.5\n",
    "p_rain = 0.1\n",
    "\n",
    "p = p_rain * p_rain_after_clouds / p_cloudy\n",
    "print(p)"
   ]
  },
  {
   "cell_type": "markdown",
   "metadata": {},
   "source": [
    "## Challenge 4\n",
    "\n",
    "\n",
    " * If someone flies to China, the probability of getting Covid is 1%  \n",
    " * If someone flies to Italy, the probability of getting Covid is 20%  \n",
    "\n",
    "I roll 1 dice with numbers 1, 2, 3, 4, 5, 6:  \n",
    " * If 1: I fly to Italy\n",
    " * If not 1: I fly to China\n",
    "\n",
    "During my trip, I got Covid. What is the probability that I flew to China?"
   ]
  },
  {
   "cell_type": "code",
   "execution_count": 13,
   "metadata": {},
   "outputs": [
    {
     "data": {
      "text/plain": [
       "0.041666666666666664"
      ]
     },
     "execution_count": 13,
     "metadata": {},
     "output_type": "execute_result"
    }
   ],
   "source": [
    "# Your code here\n",
    "covid_china = 0.01\n",
    "covid_italy = 0.2\n",
    "\n",
    "1/6 * covid_italy + 5/6 * covid_china\n"
   ]
  },
  {
   "cell_type": "markdown",
   "metadata": {},
   "source": [
    "## BONUS\n",
    "\n",
    "You roll 2 dice. What is the probability that the sum of the numbers is 7? And 8? And 9? Then simulate 10000 times and draw a countplot."
   ]
  },
  {
   "cell_type": "markdown",
   "metadata": {},
   "source": [
    "your explanation here"
   ]
  },
  {
   "cell_type": "code",
   "execution_count": 17,
   "metadata": {},
   "outputs": [
    {
     "data": {
      "image/png": "[encoded data removed]",
      "text/plain": [
       "<Figure size 640x480 with 1 Axes>"
      ]
     },
     "metadata": {},
     "output_type": "display_data"
    }
   ],
   "source": [
    "# Your code here\n",
    "\n",
    "import seaborn as sns\n",
    "import matplotlib.pyplot as plt\n",
    "import numpy as np\n",
    "\n",
    "p_7 = 6/36\n",
    "p_8 = 5/36\n",
    "p_9 = 4/36\n",
    "\n",
    "n_trials = 10000\n",
    "\n",
    "die1 = np.random.randint(1, 7, n_trials)\n",
    "die2 = np.random.randint(1, 7, n_trials)\n",
    "sums = die1 + die2\n",
    "\n",
    "sns.countplot(x=sums)  \n",
    "plt.xlabel(\"Sum of two dice\")\n",
    "plt.ylabel(\"Count\")\n",
    "plt.title(\"Simulation of rolling two dice 10,000 times\")\n",
    "plt.show()"
   ]
  },
  {
   "cell_type": "markdown",
   "metadata": {},
   "source": [
    "## Bonus \n",
    "\n",
    "One thousand people were asked through a telephone survey whether they thought more street lighting is needed at night or not.\n",
    "\n",
    "Out of the 480 men that answered the survey, 324 said yes and 156 said no. On the other hand, out of the 520 women that answered, 351 said yes and 169 said no. \n",
    "\n",
    "We wonder if men and women have a different opinions about the street lighting matter. Is gender relevant or irrelevant to the question?\n",
    "\n",
    "Consider the following events:\n",
    "- The answer is yes, so the person that answered thinks that more street lighting is needed.\n",
    "- The person who answered is a man.\n",
    "\n",
    "We want to know if these events are independent, that is, if the fact of wanting more light depends on whether one is male or female. Are these events independent or not?\n",
    "\n",
    "**Hint**: To clearly compare the answers by gender, it is best to place the data in a table."
   ]
  },
  {
   "cell_type": "markdown",
   "metadata": {},
   "source": [
    "| Gender  | Yes  | No |  |\n",
    "|---|---|---|---|\n",
    "| Men  | 0.324  | 0.156 | 0.48 |\n",
    "| Women  | 0.351  | 0.169 | 0.52 |\n",
    "|   | 0.675  | 0.325 |"
   ]
  },
  {
   "cell_type": "code",
   "execution_count": null,
   "metadata": {},
   "outputs": [],
   "source": [
    "# Your code here"
   ]
  }
 ],
 "metadata": {
  "kernelspec": {
   "display_name": "Python 3",
   "language": "python",
   "name": "python3"
  },
  "language_info": {
   "codemirror_mode": {
    "name": "ipython",
    "version": 3
   },
   "file_extension": ".py",
   "mimetype": "text/x-python",
   "name": "python",
   "nbconvert_exporter": "python",
   "pygments_lexer": "ipython3",
   "version": "3.9.13"
  }
 },
 "nbformat": 4,
 "nbformat_minor": 2
}
